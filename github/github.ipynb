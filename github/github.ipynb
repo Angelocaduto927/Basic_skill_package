{
 "cells": [
  {
   "cell_type": "markdown",
   "id": "8275b63e",
   "metadata": {},
   "source": [
    "# How to use github with VSCODE / CMD\n",
    "\n",
    "## VSCODE\n",
    "\n",
    "1. download GitHub Repositories  \n",
    "2. right click, open from github -> log in account and choose the repository  \n",
    "3. modify the repository -> in Source Management, write some comment above and click push and commit  \n",
    "\n",
    "## CMD  \n",
    "1. copy the url link from the github repository page\n",
    "2. open git bash  \n",
    ">```python\n",
    "> git clone url  \n",
    "> cd \"file_address\"  \n",
    "> ls # show the files in the address  \n",
    "> touch a.txt # create a txt file here, if it exists also won't cause errors  \n",
    "> git add . # add all the modified to commit pool  \n",
    "> git commit -m 'add a.txt' # leave one note and commit to the local repository  \n",
    "> git push # update the remote repository  \n",
    ">```  \n",
    "3. create a own access key  \n",
    "    setting -> developer setting -> personal access tokens -> fine-grained tokens -> create one -> set the access range (all repo|only public repo|restricted repo) -> contents -> change to **read and write** -> copy the key -> paste the key to the password when you push to repo   \n",
    "\n",
    "## branch\n",
    "\n",
    "1. create new branch on the github repository page / or create branch by clicking the branch at the bottom  \n",
    "2. select branch at the bottom of VSCODE"
   ]
  }
 ],
 "metadata": {
  "language_info": {
   "name": "python"
  }
 },
 "nbformat": 4,
 "nbformat_minor": 5
}
