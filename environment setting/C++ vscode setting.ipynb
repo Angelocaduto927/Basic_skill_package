{
 "cells": [
  {
   "cell_type": "markdown",
   "id": "d450a73d",
   "metadata": {},
   "source": [
    "# VScode C++/C setting pipeline"
   ]
  },
  {
   "cell_type": "markdown",
   "id": "55c16bee",
   "metadata": {},
   "source": [
    "## Download vscode  \n",
    "Go to [vscode_download](https://code.visualstudio.com/download) to download the package that suitable for your system  \n",
    "\n",
    "## Download extentions\n",
    "Find the extention block on the left and search for C/C++  \n",
    "Download **C/C++** **C/C++ Extension Pack** **C/C++ Themes**\n",
    "\n",
    "## Download Mingw-64  \n",
    "Go to [Mingw-64](https://code.visualstudio.com/docs/cpp/config-mingw)  \n",
    "Click the .exe file on the webpage to download  \n",
    "Open the .exe file, click next until finish  \n",
    "Make sure the option **run the .exe file immediately** is checked and click finish  \n",
    "\n",
    "---\n",
    "\n",
    "## Install toolset  \n",
    "Enter the code ```$ pacman -S -needed base-devel mingw-w64-ucrt-x86_64-toolchain``` below to the window    \n",
    "Enter **Enter** and **Y**  \n",
    "\n",
    "## Check installation - 1  \n",
    "Enter followings into the window  \n",
    "```\n",
    "gcc --version\n",
    "g++ --version\n",
    "gdb --version\n",
    "```\n",
    "If it responses you with version, then Congradulation you successfully installed it  \n",
    "\n",
    "## Environment variable \n",
    "Find the **bin** file address (If you use the default address, then it is ```C:\\msys64\\ucrt64\\bin```)  \n",
    "Go to system setting/ environment variable/ user variable/ path, and add this path  \n",
    "Click OK, OK, OK  \n",
    "\n",
    "## Check installation - 2  \n",
    "```Win+R``` open cmd terminal, check again  \n",
    "```\n",
    "gcc --version\n",
    "g++ --version\n",
    "gdb --version\n",
    "```\n",
    "If it responses you with version, then you successfully installed it  \n",
    "\n",
    "---\n",
    "\n",
    "## Try your code  \n",
    "Go to VScode, create a .cpp file and enter the simple code below  \n",
    "```C++\n",
    "#include <stdio.h>\n",
    "int main()\n",
    "{\n",
    "    printf(\"Hello World\\n\");\n",
    "    return 0;\n",
    "}\n",
    "```\n",
    "```Ctrl+F5``` to run the code  \n",
    "\n",
    "---\n",
    "\n",
    "## Errors  \n",
    "If you have installed the Mingw before and you reinstalled it, you need to go to  \n",
    "**c_cpp_properties.json** to modify the gcc path  \n",
    "**launch.json** to modify the gdb path  \n",
    "**tasks.json** to modify the g++ path  \n"
   ]
  }
 ],
 "metadata": {
  "language_info": {
   "name": "python"
  }
 },
 "nbformat": 4,
 "nbformat_minor": 5
}
