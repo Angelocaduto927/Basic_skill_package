{
 "cells": [
  {
   "cell_type": "markdown",
   "id": "4cc70b30",
   "metadata": {},
   "source": [
    "Problem 1   \n",
    "```run conda init before conda activate```\n",
    "\n",
    "Run   \n",
    "```conda init --all```   \n",
    "```. $PROFILE```   "
   ]
  },
  {
   "cell_type": "markdown",
   "id": "f284858e",
   "metadata": {},
   "source": [
    "Problem 2  \n",
    "```can't execute scripts for this version of Windows``` is shown at the top of powershell  \n",
    "\n",
    "open Windows powershell as administrator   \n",
    "```get-ExecutionPolicy```  \n",
    "return ```Restricted```  \n",
    "run\n",
    "```Set-ExecutionPolicy RemoteSigned```\n",
    "select  \n",
    "```all yes```  "
   ]
  }
 ],
 "metadata": {
  "language_info": {
   "name": "python"
  }
 },
 "nbformat": 4,
 "nbformat_minor": 5
}
