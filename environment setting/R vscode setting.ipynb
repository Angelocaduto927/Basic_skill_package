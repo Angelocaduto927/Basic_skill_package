{
 "cells": [
  {
   "cell_type": "markdown",
   "id": "180f00d2",
   "metadata": {},
   "source": [
    "# R language vscode environment setting  \n",
    "\n",
    "## Step 1. install R language\n",
    "\n",
    "1.Go to [@R_language_installation](https://cloud.r-project.org/), download the suitable package.  \n",
    "\n",
    "2.Open the .exe file that installed and enter:\n",
    "```\n",
    "install.packages(\"languageserver\")\n",
    "```  \n",
    "\n",
    "## step 2. vscode setting \n",
    "\n",
    "1.download expansion: R support for Visual Studio Code, R_debugger\n",
    "\n",
    "2.install radian:\n",
    "```\n",
    "pip install radian\n",
    "```\n",
    "\n",
    "3.check installation\n",
    "```\n",
    "where radian\n",
    "```\n",
    "\n",
    "4.Go to lower-left corner and click setting\n",
    "\n",
    "enter \"r.br\", tick the \"Bracketed Paste\"\n",
    "\n",
    "enter \"r.plot.usehttpgd\", tick the \"use Httpdg\"\n",
    "\n",
    "enter \"r.rterm.windows\", the enter the correct path to the R.exe file in bin file\n",
    "\n",
    "enter \"r.rpath.windows\", the enter the correct path to the R.exe file in bin file\n",
    "\n",
    "\n",
    "\n",
    "\n",
    "\n",
    "\n"
   ]
  }
 ],
 "metadata": {
  "kernelspec": {
   "display_name": "base",
   "language": "python",
   "name": "python3"
  },
  "language_info": {
   "codemirror_mode": {
    "name": "ipython",
    "version": 3
   },
   "file_extension": ".py",
   "mimetype": "text/x-python",
   "name": "python",
   "nbconvert_exporter": "python",
   "pygments_lexer": "ipython3",
   "version": "3.12.4"
  }
 },
 "nbformat": 4,
 "nbformat_minor": 5
}
